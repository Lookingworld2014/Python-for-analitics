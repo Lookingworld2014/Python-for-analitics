{
 "cells": [
  {
   "cell_type": "markdown",
   "metadata": {},
   "source": [
    "## Визуальный анализ данных"
   ]
  },
  {
   "cell_type": "markdown",
   "metadata": {},
   "source": [
    "### Описание датасета\n",
    "\n",
    "__Статистические данные о ряде домов в Калифорнии, основанные на переписи 1990 года.__\n",
    "\n",
    "longitude - долгота\n",
    "\n",
    "latitude - широта\n",
    "\n",
    "housing_median_age - средний возраст дома\n",
    "\n",
    "total_rooms - общее количество комнат\n",
    "\n",
    "total_bedrooms - общее количество спален\n",
    "\n",
    "population - количество проживающих\n",
    "\n",
    "households - домохозяйства\n",
    "\n",
    "ocean_proximity - близость океана\n",
    "\n",
    "median_income - средний доход\n",
    "\n",
    "median_house_value - средняя стоимость дома"
   ]
  },
  {
   "cell_type": "code",
   "execution_count": null,
   "metadata": {},
   "outputs": [],
   "source": [
    "df = pd.read_csv('housing.csv', sep=';')\n",
    "df.head()\n",
    "longitude\tlatitude\thousing_median_age\ttotal_rooms\ttotal_bedrooms\tpopulation\tmedian_income\tmedian_house_value\tocean_proximity\tINLAND\n",
    "0\t-122.23\t37.88\t41.0\t880.0\t129.0\t322.0\t8.3252\t452600.0\tNEAR BAY\t0\n",
    "1\t-122.22\t37.86\t21.0\t7099.0\t1106.0\t2401.0\t8.3014\t358500.0\tNEAR BAY\t0\n",
    "2\t-122.24\t37.85\t52.0\t1467.0\t190.0\t496.0\t7.2574\t352100.0\tNEAR BAY\t0\n",
    "3\t-122.25\t37.85\t52.0\t1274.0\t235.0\t558.0\t5.6431\t341300.0\tNEAR BAY\t0\n",
    "4\t-122.25\t37.85\t52.0\t1627.0\t280.0\t565.0\t3.8462\t342200.0\tNEAR BAY\t0"
   ]
  },
  {
   "cell_type": "code",
   "execution_count": null,
   "metadata": {},
   "outputs": [],
   "source": [
    "Распределение вещественных признаков\n",
    "# {'red', 'green', 'blue'} - дискретный признак ('red', 'green', 'blue', 'red', 'green', 'red')\n",
    "# [0, 100] - вещественный признак (0, 5, 5.6, 10.5, 10.57)\n",
    "plt.figure(figsize=(8, 6))\n",
    "plt.hist(df['median_house_value'])\n",
    "plt.title('Распределение median house value')\n",
    "plt.xlabel('Стоимость')\n",
    "plt.ylabel('Количество');"
   ]
  },
  {
   "cell_type": "code",
   "execution_count": null,
   "metadata": {},
   "outputs": [],
   "source": [
    "df_num_features = df.select_dtypes(include=['float64', 'float32', 'float16'])\n",
    "df_num_features.drop('median_house_value', axis=1, inplace=True)"
   ]
  },
  {
   "cell_type": "code",
   "execution_count": null,
   "metadata": {},
   "outputs": [],
   "source": [
    "df_num_features.hist(figsize=(16, 16), bins=20, grid=False);"
   ]
  },
  {
   "cell_type": "code",
   "execution_count": null,
   "metadata": {},
   "outputs": [],
   "source": [
    "Поиск выбросов с помощью box plot\n",
    "\n",
    "Как строится box plot\n",
    "\n",
    "\n",
    "\n",
    "box - от 25% до 75% квантиля\n",
    "линия в середине box - медиана\n",
    "\"усы\"\n",
    "Как строятся \"усы\" - вариантов масса\n",
    "\n",
    "среднее +/- 3 сигма (стандартное отклонение)\n",
    "min / max\n",
    "median +/- 1.5*(q75 - q25),\n",
    "...\n",
    "*Интерквартильный размах = q75 - q25\n",
    "\n",
    "plt.figure(figsize=(6, 3))\n",
    "\n",
    "sns.boxplot(x=df['population'], whis=1.5)\n",
    "\n",
    "plt.xlabel('population')\n",
    "plt.show()"
   ]
  },
  {
   "cell_type": "markdown",
   "metadata": {},
   "source": [
    "Анализ категориальных признаков"
   ]
  },
  {
   "cell_type": "code",
   "execution_count": null,
   "metadata": {},
   "outputs": [],
   "source": [
    "counts = df['ocean_proximity'].value_counts()\n",
    "    \n",
    "plt.figure(figsize=(8, 6))    \n",
    "plt.title('ocean_proximity')\n",
    "sns.barplot(x=counts.index, y=counts.values)\n",
    "    \n",
    "plt.show()"
   ]
  },
  {
   "cell_type": "code",
   "execution_count": null,
   "metadata": {},
   "outputs": [],
   "source": [
    "counts = df['INLAND'].value_counts()\n",
    "    \n",
    "plt.figure(figsize=(8, 6))    \n",
    "plt.title('INLAND')\n",
    "sns.barplot(x=counts.index, y=counts.values)\n",
    "    \n",
    "plt.show()"
   ]
  },
  {
   "cell_type": "markdown",
   "metadata": {},
   "source": [
    "Анализ взаимных распределений\n"
   ]
  },
  {
   "cell_type": "code",
   "execution_count": null,
   "metadata": {},
   "outputs": [],
   "source": [
    "sns.jointplot(x=df['median_income'], y=df['median_house_value'], kind='reg');"
   ]
  },
  {
   "cell_type": "code",
   "execution_count": null,
   "metadata": {},
   "outputs": [],
   "source": [
    "sns.jointplot(x=df['latitude'], y=df['longitude'], kind='kde');"
   ]
  },
  {
   "cell_type": "code",
   "execution_count": null,
   "metadata": {},
   "outputs": [],
   "source": [
    "sns.jointplot(x=df['latitude'], y=df['median_house_value'], kind='reg');"
   ]
  },
  {
   "cell_type": "code",
   "execution_count": null,
   "metadata": {},
   "outputs": [],
   "source": [
    "Видно два города, имеет смысл посмотреть на зависимость по отдельности\n",
    "\n",
    "df_cut = df[df['latitude'] < 36]\n",
    "sns.jointplot(x=df_cut['latitude'], y=df_cut['median_house_value'], kind='reg');"
   ]
  },
  {
   "cell_type": "markdown",
   "metadata": {},
   "source": [
    "Категориальные / бинарные признаки\n",
    "box plot"
   ]
  },
  {
   "cell_type": "code",
   "execution_count": null,
   "metadata": {},
   "outputs": [],
   "source": [
    "plt.figure(figsize=(16, 8))\n",
    "\n",
    "sns.boxplot(x=df['median_house_value'], y=df['ocean_proximity'], whis=1.5)\n",
    "\n",
    "plt.xlabel('median_house_value')\n",
    "plt.ylabel('ocean_proximity')\n",
    "plt.title('Distribution of median_house_value by ocean_proximity');"
   ]
  },
  {
   "cell_type": "markdown",
   "metadata": {},
   "source": [
    "Как строится box plot\n",
    "\n",
    "Подробное объяснение\n",
    "\n",
    "box - от 25% до 75% квантиля\n",
    "\n",
    "линия в середине box - медиана\n",
    "\n",
    "\"усы\"\n",
    "Как строятся \"усы\" - вариантов масса\n",
    "\n",
    "среднее +/- 3 сигма (стандартное отклонение)\n",
    "\n",
    "min / max\n",
    "\n",
    "median +/- 1.5*(q75 - q25),\n",
    "...\n",
    "\n",
    "*Интерквартильный размах = q75 - q25"
   ]
  },
  {
   "cell_type": "markdown",
   "metadata": {},
   "source": [
    "Матрица корреляций"
   ]
  },
  {
   "cell_type": "code",
   "execution_count": null,
   "metadata": {},
   "outputs": [],
   "source": [
    "Показывает линейную связь между переменными\n",
    "Изменяется от -1 до 1\n",
    "Корреляция - мера только линейной связи\n",
    "sns.jointplot(x=df['total_rooms'], y=df['total_bedrooms'], kind='reg');\n"
   ]
  },
  {
   "cell_type": "code",
   "execution_count": null,
   "metadata": {},
   "outputs": [],
   "source": [
    "sns.jointplot(x=df['longitude'], y=df['latitude'], kind='reg');"
   ]
  },
  {
   "cell_type": "code",
   "execution_count": null,
   "metadata": {},
   "outputs": [],
   "source": [
    "corr_matrix = df.corr()\n",
    "corr_matrix = np.round(corr_matrix, 1)\n",
    "corr_matrix[np.abs(corr_matrix) < 0.3] = 0\n",
    "corr_matrix"
   ]
  },
  {
   "cell_type": "code",
   "execution_count": null,
   "metadata": {},
   "outputs": [],
   "source": [
    "plt.figure(figsize=(10, 8))\n",
    "\n",
    "sns.set(font_scale=1.4)\n",
    "\n",
    "sns.heatmap(corr_matrix, annot=True, linewidths=.5, cmap='coolwarm')\n",
    "\n",
    "plt.title('Correlation matrix');"
   ]
  },
  {
   "cell_type": "markdown",
   "metadata": {},
   "source": [
    "Гео данные"
   ]
  },
  {
   "cell_type": "code",
   "execution_count": null,
   "metadata": {},
   "outputs": [],
   "source": [
    "min_long = -124.55\n",
    "max_long = -113.80\n",
    "\n",
    "min_lat = 32.45\n",
    "max_lat = 42.05"
   ]
  },
  {
   "cell_type": "code",
   "execution_count": null,
   "metadata": {},
   "outputs": [],
   "source": [
    "import matplotlib.image as img\n",
    "california_map = img.imread('California_Map.png')\n",
    "\n",
    "plt.figure(figsize=(12, 9))\n",
    "plt.imshow(california_map,\n",
    "           extent=[min_long, max_long, min_lat, max_lat], alpha=0.5);"
   ]
  },
  {
   "cell_type": "code",
   "execution_count": null,
   "metadata": {},
   "outputs": [],
   "source": [
    "plt.figure(figsize=(12, 9))\n",
    "\n",
    "sc = plt.scatter(df['longitude'], df['latitude'], alpha=0.5, c=df['median_house_value'])\n",
    "\n",
    "plt.imshow(california_map,\n",
    "           extent=[min_long, max_long, min_lat, max_lat], alpha=0.5)\n",
    "\n",
    "plt.colorbar(sc)\n",
    "plt.xlabel(\"Longitude\")\n",
    "plt.ylabel(\"Latitude\")\n",
    "plt.title(\"Homes geography\");"
   ]
  },
  {
   "cell_type": "markdown",
   "metadata": {},
   "source": [
    "Folium"
   ]
  },
  {
   "cell_type": "code",
   "execution_count": null,
   "metadata": {},
   "outputs": [],
   "source": [
    "# !pip install folium\n",
    "import folium\n",
    "this_map = folium.Map(prefer_canvas=True)\n",
    "\n",
    "def plotDot(point):\n",
    "    folium.CircleMarker(\n",
    "        location=[point.latitude, point.longitude],\n",
    "        radius=2,\n",
    "        popup=point.median_house_value\n",
    "    ).add_to(this_map)\n",
    "    \n",
    "df.apply(plotDot, axis=1)\n",
    "\n",
    "this_map.fit_bounds(this_map.get_bounds())\n",
    "\n",
    "this_map"
   ]
  },
  {
   "cell_type": "markdown",
   "metadata": {},
   "source": [
    "Kepler**"
   ]
  },
  {
   "cell_type": "code",
   "execution_count": null,
   "metadata": {},
   "outputs": [],
   "source": [
    "# !conda install -c conda-forge keplergl\n",
    "# !pip install keplergl==0.1.1\n",
    "from keplergl import KeplerGl \n",
    "\n",
    "map_ = KeplerGl(height=700)\n",
    "map_.add_data(df, 'Data')\n",
    "map_.save_to_html(file_name='./california.html')\n",
    "User Guide: https://docs.kepler.gl/docs/keplergl-jupyter\n",
    "Map saved to ./california.html!"
   ]
  },
  {
   "cell_type": "markdown",
   "metadata": {},
   "source": [
    "### Summary\n",
    "## Матрица корреляции\n",
    "\n",
    "_Знакомство с признаками_\n",
    "\n",
    "Плотность распределения (sns.distplot/sns.kdeplot/plt.hist - Узнать распределение признака)\n",
    "\n",
    "sns.violinplot - Узнать распределение признака\n",
    "\n",
    "Столбчатая диаграмма (sns.barplot/plt.bar - Узнать распределение категориального признака)\n",
    "\n",
    "Ящик с усами (sns.boxplot/plt.boxplot - Узнать диапазон значений)\n",
    "\n",
    "sns.jointplot - Взаимное изменение признаков\n",
    "\n",
    "plt.pie - Изобразить долю объектов от всего кол-ва\n",
    "\n",
    "Поиск выбросов\n",
    "\n",
    "\n",
    "sns.distplot/sns.kdeplot/plt.hist - Искать хвосты слева и справа\n",
    "sns.boxplot - Всё, что выходит за пределы усов - выбросы"
   ]
  },
  {
   "cell_type": "code",
   "execution_count": null,
   "metadata": {},
   "outputs": [],
   "source": []
  },
  {
   "cell_type": "code",
   "execution_count": null,
   "metadata": {},
   "outputs": [],
   "source": []
  },
  {
   "cell_type": "code",
   "execution_count": null,
   "metadata": {},
   "outputs": [],
   "source": []
  },
  {
   "cell_type": "code",
   "execution_count": null,
   "metadata": {},
   "outputs": [],
   "source": []
  },
  {
   "cell_type": "code",
   "execution_count": null,
   "metadata": {},
   "outputs": [],
   "source": []
  },
  {
   "cell_type": "code",
   "execution_count": null,
   "metadata": {},
   "outputs": [],
   "source": []
  },
  {
   "cell_type": "code",
   "execution_count": null,
   "metadata": {},
   "outputs": [],
   "source": []
  },
  {
   "cell_type": "code",
   "execution_count": null,
   "metadata": {},
   "outputs": [],
   "source": []
  },
  {
   "cell_type": "code",
   "execution_count": null,
   "metadata": {},
   "outputs": [],
   "source": []
  },
  {
   "cell_type": "code",
   "execution_count": null,
   "metadata": {},
   "outputs": [],
   "source": []
  },
  {
   "cell_type": "code",
   "execution_count": null,
   "metadata": {},
   "outputs": [],
   "source": []
  },
  {
   "cell_type": "code",
   "execution_count": null,
   "metadata": {},
   "outputs": [],
   "source": []
  },
  {
   "cell_type": "code",
   "execution_count": null,
   "metadata": {},
   "outputs": [],
   "source": []
  },
  {
   "cell_type": "code",
   "execution_count": null,
   "metadata": {},
   "outputs": [],
   "source": []
  },
  {
   "cell_type": "code",
   "execution_count": null,
   "metadata": {},
   "outputs": [],
   "source": []
  },
  {
   "cell_type": "code",
   "execution_count": null,
   "metadata": {},
   "outputs": [],
   "source": []
  }
 ],
 "metadata": {
  "language_info": {
   "name": "python"
  },
  "orig_nbformat": 4
 },
 "nbformat": 4,
 "nbformat_minor": 2
}
