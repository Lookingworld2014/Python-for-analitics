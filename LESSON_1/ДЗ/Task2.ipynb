{
 "cells": [
  {
   "cell_type": "markdown",
   "metadata": {},
   "source": [
    "### Задача №2\n",
    "\n",
    "Дан список с затратами на рекламу. Но в данных есть ошибки, некоторые затраты имеют отрицательную величину. Удалите такие значения из списка и посчитайте суммарные затраты. Используйте list comprehensions.\n",
    "\n",
    "\n",
    "**Примеры/Тесты:**\n",
    "\n",
    "    [-12, 100, 0, 125, -90, 0, 345, 655, -1, 0, 200] -> [100, 0, 125, 0, 345, 655, 0, 200]\n",
    "_(*) Усложнение. Удалите отрицательные значения из списка, а нулевые значения замените на None_"
   ]
  },
  {
   "cell_type": "code",
   "execution_count": 4,
   "metadata": {},
   "outputs": [
    {
     "name": "stdout",
     "output_type": "stream",
     "text": [
      "1425\n"
     ]
    }
   ],
   "source": [
    "num1 = [-12, 100, 0, 125, -90, 0, 345, 655, -1, 0, 200]\n",
    "newnum = [num for num in num1 if num >= 0]\n",
    "\n",
    "summa = sum(newnum)\n",
    "print(summa)\n"
   ]
  },
  {
   "cell_type": "markdown",
   "metadata": {},
   "source": [
    "### *Усложнение"
   ]
  },
  {
   "cell_type": "code",
   "execution_count": 7,
   "metadata": {},
   "outputs": [
    {
     "name": "stdout",
     "output_type": "stream",
     "text": [
      "[None, 100, None, 125, None, None, 345, 655, None, None, 200]\n"
     ]
    }
   ],
   "source": [
    "numbers = [-12, 100, 0, 125, -90, 0, 345, 655, -1, 0, 200]\n",
    "\n",
    "newnumbers = [numbers if numbers > 0 else None for numbers in numbers] \n",
    "print(newnumbers)"
   ]
  }
 ],
 "metadata": {
  "kernelspec": {
   "display_name": "Python 3",
   "language": "python",
   "name": "python3"
  },
  "language_info": {
   "codemirror_mode": {
    "name": "ipython",
    "version": 3
   },
   "file_extension": ".py",
   "mimetype": "text/x-python",
   "name": "python",
   "nbconvert_exporter": "python",
   "pygments_lexer": "ipython3",
   "version": "3.11.3"
  },
  "orig_nbformat": 4
 },
 "nbformat": 4,
 "nbformat_minor": 2
}
