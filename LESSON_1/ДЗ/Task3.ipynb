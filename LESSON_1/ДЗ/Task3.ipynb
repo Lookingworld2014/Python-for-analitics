{
 "cells": [
  {
   "cell_type": "markdown",
   "metadata": {},
   "source": [
    "### Задача 3\n",
    "\n",
    "Даны два списка:\n",
    "\n",
    " Дата покупки:\n",
    "\n",
    "['2021-09-14', '2021-12-15', '2021-09-08', '2021-12-05', '2021-10-09', '2021-09-30', '2021-12-22', '2021-11-29', '2021-12-24', '2021-11-26', '2021-10-27', '2021-12-18', '2021-11-09', '2021-11-23', '2021-09-27', '2021-10-02', '2021-12-27', '2021-09-20', '2021-12-13', '2021-11-01', '2021-11-09', '2021-12-06', '2021-12-08', '2021-10-09', '2021-10-31', '2021-09-30', '2021-11-09', '2021-12-13', '2021-10-26', '2021-12-09']\n",
    "\n",
    "Суммы покупок по датам:\n",
    "\n",
    "[1270, 8413, 9028, 3703, 5739, 4095, 295, 4944, 5723, 3701, 4471, 651, 7037, 4274, 6275, 4988, 6930, 2971, 6592, 2004, 2822, 519, 3406, 2732, 5015, 2008, 316, 6333, 5700, 2887]\n",
    "\n",
    "#### Задание 1\n",
    "\n",
    "\n",
    "Найдите, какая выручка у компании в ноябре. Используйте list comprehensions.\n",
    "\n",
    "**Ответ: 25098**\n",
    "\n",
    "#### Задание 2\n",
    "\n",
    "\n",
    "Найдите выручку компании в зависимости от месяца. Напишите функцию, которая на вход принимает списки с датами и с выручкой, а на выходе вернет словарь, где ключи - это месяцы, а значения - это выручка.\n",
    "Примеры/Тесты:\n",
    "\n",
    "<finction_name>(dates, prices) -> {'09': 25647, '12': 45452, '10': 28645, '11': 25098}\n",
    "\n",
    "\n",
    "*Примечание:*\n",
    "*- Для извлечения месяца вы можете воспользоваться пакетом datetime или извлекать его как строку*\n",
    "*- Для работы \"синхронно\" с двумя последовательностями вы можете использовать индекс или функцию zip. Попробуйте оба варианта.*\n",
    "*- Используйте аннотирование типов при определении функции*"
   ]
  },
  {
   "cell_type": "code",
   "execution_count": 103,
   "metadata": {},
   "outputs": [
    {
     "name": "stdout",
     "output_type": "stream",
     "text": [
      "25098\n",
      "25098\n",
      "[4944, 3701, 7037, 4274, 2004, 2822, 316]\n"
     ]
    }
   ],
   "source": [
    "data = ['2021-09-14', '2021-12-15', '2021-09-08', '2021-12-05', '2021-10-09', '2021-09-30', '2021-12-22', '2021-11-29', '2021-12-24', '2021-11-26', '2021-10-27', '2021-12-18', '2021-11-09', '2021-11-23', '2021-09-27', '2021-10-02', '2021-12-27', '2021-09-20', '2021-12-13', '2021-11-01', '2021-11-09', '2021-12-06', '2021-12-08', '2021-10-09', '2021-10-31', '2021-09-30', '2021-11-09', '2021-12-13', '2021-10-26', '2021-12-09',]\n",
    "\n",
    "value = [1270, 8413, 9028, 3703, 5739, 4095, 295, 4944, 5723, 3701, 4471, 651, 7037, 4274, 6275, 4988, 6930, 2971, 6592, 2004, 2822, 519, 3406, 2732, 5015, 2008, 316, 6333, 5700, 2887,]\n",
    "\n",
    "summa = 0\n",
    "\n",
    "\n",
    "\n",
    "\n",
    "print(sum(list((d[1] for d in zip(data,value)if d[0].split('-')[1] == '11'))))\n",
    "\n",
    "list1 = []\n",
    "\n",
    "for day in zip(data,value):\n",
    "    if day[0].split('-')[1] == '11': \n",
    "        summa += day[1]\n",
    "        list1.append(day[1])\n",
    "        #print(sum(list1))\n",
    "\n",
    "print(sum(list1))   \n",
    "\n",
    "\n",
    "\n"
   ]
  },
  {
   "cell_type": "code",
   "execution_count": 79,
   "metadata": {},
   "outputs": [
    {
     "name": "stdout",
     "output_type": "stream",
     "text": [
      "\u001b[1;31mSignature:\u001b[0m \u001b[0msum\u001b[0m\u001b[1;33m(\u001b[0m\u001b[0miterable\u001b[0m\u001b[1;33m,\u001b[0m \u001b[1;33m/\u001b[0m\u001b[1;33m,\u001b[0m \u001b[0mstart\u001b[0m\u001b[1;33m=\u001b[0m\u001b[1;36m0\u001b[0m\u001b[1;33m)\u001b[0m\u001b[1;33m\u001b[0m\u001b[1;33m\u001b[0m\u001b[0m\n",
      "\u001b[1;31mDocstring:\u001b[0m\n",
      "Return the sum of a 'start' value (default: 0) plus an iterable of numbers\n",
      "\n",
      "When the iterable is empty, return the start value.\n",
      "This function is intended specifically for use with numeric values and may\n",
      "reject non-numeric types.\n",
      "\u001b[1;31mType:\u001b[0m      builtin_function_or_method"
     ]
    }
   ],
   "source": [
    "?sum"
   ]
  },
  {
   "cell_type": "code",
   "execution_count": 1,
   "metadata": {},
   "outputs": [],
   "source": [
    "proba = '2021-12-15'\n",
    "\n"
   ]
  },
  {
   "cell_type": "code",
   "execution_count": 8,
   "metadata": {},
   "outputs": [
    {
     "data": {
      "text/plain": [
       "'12'"
      ]
     },
     "execution_count": 8,
     "metadata": {},
     "output_type": "execute_result"
    }
   ],
   "source": [
    "proba[5:7]"
   ]
  },
  {
   "cell_type": "code",
   "execution_count": 9,
   "metadata": {},
   "outputs": [
    {
     "data": {
      "text/plain": [
       "'12'"
      ]
     },
     "execution_count": 9,
     "metadata": {},
     "output_type": "execute_result"
    }
   ],
   "source": [
    "proba.split('-')[1]\n"
   ]
  },
  {
   "cell_type": "code",
   "execution_count": null,
   "metadata": {},
   "outputs": [],
   "source": [
    "\n",
    "def dict_new(data: list,summa: list)-> dict:\n",
    "    dictnew = dict()\n",
    "    for i in range(len(data)):\n",
    "       \n",
    "        dictnew[data[i]]=summa[i]\n",
    "    return dictnew\n",
    "dict_new(data,summa)\n"
   ]
  },
  {
   "cell_type": "code",
   "execution_count": 105,
   "metadata": {},
   "outputs": [
    {
     "name": "stdout",
     "output_type": "stream",
     "text": [
      "250980\n"
     ]
    }
   ],
   "source": [
    "print(\n",
    "    sum(\n",
    "        list(\n",
    "            (d[1]*10 \n",
    "             for d in zip(data,value)\n",
    "             if d[0].split('-')[1] == '11')\n",
    "             )\n",
    "        )\n",
    "    )"
   ]
  }
 ],
 "metadata": {
  "kernelspec": {
   "display_name": "Python 3",
   "language": "python",
   "name": "python3"
  },
  "language_info": {
   "codemirror_mode": {
    "name": "ipython",
    "version": 3
   },
   "file_extension": ".py",
   "mimetype": "text/x-python",
   "name": "python",
   "nbconvert_exporter": "python",
   "pygments_lexer": "ipython3",
   "version": "3.11.3"
  },
  "orig_nbformat": 4
 },
 "nbformat": 4,
 "nbformat_minor": 2
}
