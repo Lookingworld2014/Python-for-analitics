{
 "cells": [
  {
   "cell_type": "markdown",
   "metadata": {},
   "source": [
    "# Задача  1.2 \n",
    "\n",
    "Напишите функцию, которая из двух списков, делает один словарь, где элементы из первого списка - ключи, а элементы из второго списка - значения\n",
    "keys = ['One', 'Two', 'Three']\n",
    "values = [1,2,3]\n",
    "Используйте аннотирование типов\n",
    "- Используйте цикл for\n",
    "- Используйте dict comprehensions\n",
    "\n",
    "Усложнение [*] Используйте функцию zip. Проверьте на списках разной длины\n",
    "Примеры/Тесты:\n",
    "    <function_name>(keys, values) -> {'One': 1, 'Two': 2, 'Three': 3}"
   ]
  },
  {
   "cell_type": "code",
   "execution_count": 1,
   "metadata": {},
   "outputs": [
    {
     "data": {
      "text/plain": [
       "{'One': 1, 'Two': 2, 'Three': 3}"
      ]
     },
     "execution_count": 1,
     "metadata": {},
     "output_type": "execute_result"
    }
   ],
   "source": [
    "def dict_new(lst_keys: list,lst_values: list)-> dict:\n",
    "    dictnew = dict()\n",
    "    for i in range(len(lst_keys)):\n",
    "        #lst_keys[i] -обращение к элементу списка по индексу ([ключ] = значение)\n",
    "        dictnew[lst_keys[i]]=lst_values[i]\n",
    "    return dictnew\n",
    "dict_new(['One', 'Two', 'Three'],[1,2,3])\n",
    "    #dictnew.keys(lst_keys)\n",
    "    #dictnew.values(lst_values)\n",
    "    "
   ]
  },
  {
   "cell_type": "code",
   "execution_count": 2,
   "metadata": {},
   "outputs": [
    {
     "name": "stdout",
     "output_type": "stream",
     "text": [
      "('One', 1)\n",
      "('Two', 2)\n",
      "('Three', 3)\n"
     ]
    }
   ],
   "source": [
    "keys = ['One', 'Two', 'Three']\n",
    "values = [1,2,3]\n",
    "new = zip(keys,values)\n",
    "for i in new:\n",
    "    print(i)"
   ]
  },
  {
   "cell_type": "code",
   "execution_count": 3,
   "metadata": {},
   "outputs": [
    {
     "name": "stdout",
     "output_type": "stream",
     "text": [
      "{'One': 1, 'Two': 2, 'Three': 3}\n"
     ]
    }
   ],
   "source": [
    "def dict_new1(lst_keys: list,lst_values: list)-> dict:\n",
    "    dictnew = dict()\n",
    "    for k,v in zip(lst_keys,lst_values):\n",
    "        dictnew[k]=v\n",
    "    \n",
    "    return dictnew\n",
    "print(dict_new1(keys,values))"
   ]
  }
 ],
 "metadata": {
  "kernelspec": {
   "display_name": "Python 3",
   "language": "python",
   "name": "python3"
  },
  "language_info": {
   "codemirror_mode": {
    "name": "ipython",
    "version": 3
   },
   "file_extension": ".py",
   "mimetype": "text/x-python",
   "name": "python",
   "nbconvert_exporter": "python",
   "pygments_lexer": "ipython3",
   "version": "3.11.3"
  },
  "orig_nbformat": 4
 },
 "nbformat": 4,
 "nbformat_minor": 2
}
