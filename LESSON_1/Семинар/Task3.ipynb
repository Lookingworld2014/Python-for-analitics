{
 "cells": [
  {
   "cell_type": "markdown",
   "metadata": {},
   "source": [
    "# Задача 1.5. \n",
    "Напишите функцию-генератор. Генератор на вход принимает список с данными о клиенте(смотри ниже пример)\n",
    "Внутри генератора реализуйте обход по списку с данными\n",
    "\n",
    "На каждой итерации генератор будет возвращать кортеж из двух элементов:\n",
    "- данные по конкретному клиенту,\n",
    "- значение (float), которое показывает, сколько секунд прошло с предыдущей итерации.\n",
    "Эти секунды, должны показывать время не с начала запуска генератора, а именно то время, которое прошло с предыдущей итерации.\n",
    "А значит время на первой итерации должно равняться 0.\n",
    "Используйте функцию time из модуля time для подсчета времени.\n",
    "Чтобы проверить работу таймера, запустите проход по генератору в цикле с time.sleep(2)\n",
    "ПРимер данных \n",
    "lst_data = [\n",
    "    {'name': 'John', 'age': 25, 'salary': 5000, 'city': 'Moscow'},\n",
    "    {'name': 'Mike', 'age': 31, 'salary': 7000, 'city': 'St-Petersburg'},\n",
    "    {'name': 'Ann', 'age': 35, 'salary': 15000, 'city': 'Moscow'},\n",
    "    {'name': 'Mak', 'age': 23, 'salary': 6000, 'city': 'Kazan'},\n",
    "\n",
    "Примеры/Тесты:\n",
    "({'name': 'John', 'age': 25, 'salary': 5000, 'city': 'Moscow'}, 0.0)\n",
    "({'name': 'Mike', 'age': 31, 'salary': 7000, 'city': 'St-Petersburg'}, 2.0001144409179688)\n",
    "({'name': 'Ann', 'age': 35, 'salary': 15000, 'city': 'Moscow'}, 2.0001144409179688)\n",
    "({'name': 'Mak', 'age': 23, 'salary': 6000, 'city': 'Kazan'}, 2.0001144409179688)"
   ]
  },
  {
   "cell_type": "code",
   "execution_count": 1,
   "metadata": {},
   "outputs": [],
   "source": [
    "lst_data = [\n",
    "    {'name': 'John', 'age': 25, 'salary': 5000, 'city': 'Moscow'},\n",
    "    {'name': 'Mike', 'age': 31, 'salary': 7000, 'city': 'St-Petersburg'},\n",
    "    {'name': 'Ann', 'age': 35, 'salary': 15000, 'city': 'Moscow'},\n",
    "    {'name': 'Mak', 'age': 23, 'salary': 6000, 'city': 'Kazan'},]\n",
    "\n",
    "def generator(ClientsData:list):\n",
    "    for client in ClientsData:\n",
    "        yield client"
   ]
  },
  {
   "cell_type": "code",
   "execution_count": 2,
   "metadata": {},
   "outputs": [
    {
     "name": "stdout",
     "output_type": "stream",
     "text": [
      "<generator object generator at 0x000001DC7C1152F0>\n"
     ]
    }
   ],
   "source": [
    "gen1 = generator(lst_data)\n",
    "print(gen1)"
   ]
  },
  {
   "cell_type": "code",
   "execution_count": 3,
   "metadata": {},
   "outputs": [
    {
     "name": "stdout",
     "output_type": "stream",
     "text": [
      "{'name': 'John', 'age': 25, 'salary': 5000, 'city': 'Moscow'}\n",
      "{'name': 'Mike', 'age': 31, 'salary': 7000, 'city': 'St-Petersburg'}\n",
      "{'name': 'Ann', 'age': 35, 'salary': 15000, 'city': 'Moscow'}\n",
      "{'name': 'Mak', 'age': 23, 'salary': 6000, 'city': 'Kazan'}\n"
     ]
    }
   ],
   "source": [
    "for element in gen1:\n",
    "    print(element)"
   ]
  }
 ],
 "metadata": {
  "kernelspec": {
   "display_name": "Python 3",
   "language": "python",
   "name": "python3"
  },
  "language_info": {
   "codemirror_mode": {
    "name": "ipython",
    "version": 3
   },
   "file_extension": ".py",
   "mimetype": "text/x-python",
   "name": "python",
   "nbconvert_exporter": "python",
   "pygments_lexer": "ipython3",
   "version": "3.11.3"
  },
  "orig_nbformat": 4
 },
 "nbformat": 4,
 "nbformat_minor": 2
}
