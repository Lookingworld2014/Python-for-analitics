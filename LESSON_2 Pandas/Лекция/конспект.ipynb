{
 "cells": [
  {
   "cell_type": "markdown",
   "metadata": {},
   "source": [
    "### Series\n",
    "Она представляет из себя объект, похожий на одномерный массив, но отличительной чертой является наличие индексов. Индекс находится слева, а сам элемент справа.\n",
    "\n",
    "Синтаксис создания:\n",
    "\n",
    "pandas.Series(input_data, index, data_type)\n",
    "\n",
    "input_data: ввод в виде списка, константы, массива NumPy, Dict и т. д.\n",
    "\n",
    "index: значения индексов.\n",
    "\n",
    "data_type (опционально): тип данных."
   ]
  },
  {
   "cell_type": "code",
   "execution_count": 2,
   "metadata": {},
   "outputs": [
    {
     "ename": "ModuleNotFoundError",
     "evalue": "No module named 'pandas'",
     "output_type": "error",
     "traceback": [
      "\u001b[1;31m---------------------------------------------------------------------------\u001b[0m",
      "\u001b[1;31mModuleNotFoundError\u001b[0m                       Traceback (most recent call last)",
      "Cell \u001b[1;32mIn[2], line 1\u001b[0m\n\u001b[1;32m----> 1\u001b[0m \u001b[39mimport\u001b[39;00m \u001b[39mpandas\u001b[39;00m \u001b[39mas\u001b[39;00m \u001b[39mpd\u001b[39;00m\n\u001b[0;32m      2\u001b[0m \u001b[39mimport\u001b[39;00m \u001b[39mnumpy\u001b[39;00m \u001b[39mas\u001b[39;00m \u001b[39mnp\u001b[39;00m\n",
      "\u001b[1;31mModuleNotFoundError\u001b[0m: No module named 'pandas'"
     ]
    }
   ],
   "source": [
    "import pandas as pd\n",
    "import numpy as np"
   ]
  },
  {
   "cell_type": "code",
   "execution_count": null,
   "metadata": {},
   "outputs": [],
   "source": [
    "a = pd.Series([4, 7, 6, 3, 9],\n",
    "              index=['one', 'two', 'three', 'four', 'five'])\n",
    "a"
   ]
  },
  {
   "cell_type": "code",
   "execution_count": null,
   "metadata": {},
   "outputs": [],
   "source": [
    "a.index\n",
    "RangeIndex(start=0, stop=5, step=1)\n",
    "a.values\n",
    "array([4, 7, 6, 3, 9])\n",
    "a[0]\n",
    "\n",
    "a[1]"
   ]
  },
  {
   "cell_type": "markdown",
   "metadata": {},
   "source": [
    "### DataFrame\n",
    "Объект DataFrame является табличной структурой данных. В любой таблице всегда присутствуют строки и столбцы. При этом в столбцах можно хранить данные разных типов данных. Столбцами в объекте DataFrame выступают объекты Series, строки которых являются их элементами.\n",
    "\n",
    "Синтаксис создания:\n",
    "\n",
    "pandas.DataFrame(input_data, index)\n",
    "\n",
    "input_data: ввод в виде Dict, 2D массива NumPy, Series и т. д.\n",
    "\n",
    "index: значения индексов."
   ]
  },
  {
   "cell_type": "code",
   "execution_count": 1,
   "metadata": {},
   "outputs": [
    {
     "ename": "NameError",
     "evalue": "name 'pd' is not defined",
     "output_type": "error",
     "traceback": [
      "\u001b[1;31m---------------------------------------------------------------------------\u001b[0m",
      "\u001b[1;31mNameError\u001b[0m                                 Traceback (most recent call last)",
      "Cell \u001b[1;32mIn[1], line 1\u001b[0m\n\u001b[1;32m----> 1\u001b[0m df \u001b[39m=\u001b[39m pd\u001b[39m.\u001b[39mDataFrame({\n\u001b[0;32m      2\u001b[0m     \u001b[39m'\u001b[39m\u001b[39mAge\u001b[39m\u001b[39m'\u001b[39m: [\u001b[39m46\u001b[39m, \u001b[39m37\u001b[39m, \u001b[39m44\u001b[39m, \u001b[39m42\u001b[39m, \u001b[39m42\u001b[39m],\n\u001b[0;32m      3\u001b[0m     \u001b[39m'\u001b[39m\u001b[39mCountry\u001b[39m\u001b[39m'\u001b[39m: [\u001b[39m'\u001b[39m\u001b[39mSpain\u001b[39m\u001b[39m'\u001b[39m, \u001b[39m'\u001b[39m\u001b[39mSpain\u001b[39m\u001b[39m'\u001b[39m, \u001b[39m'\u001b[39m\u001b[39mGermany\u001b[39m\u001b[39m'\u001b[39m, \u001b[39m'\u001b[39m\u001b[39mGermany\u001b[39m\u001b[39m'\u001b[39m, \u001b[39m'\u001b[39m\u001b[39mFrance\u001b[39m\u001b[39m'\u001b[39m],\n\u001b[0;32m      4\u001b[0m     \u001b[39m'\u001b[39m\u001b[39mGender\u001b[39m\u001b[39m'\u001b[39m: [\u001b[39m'\u001b[39m\u001b[39mFemale\u001b[39m\u001b[39m'\u001b[39m, \u001b[39m'\u001b[39m\u001b[39mFemale\u001b[39m\u001b[39m'\u001b[39m, \u001b[39m'\u001b[39m\u001b[39mMale\u001b[39m\u001b[39m'\u001b[39m, \u001b[39m'\u001b[39m\u001b[39mMale\u001b[39m\u001b[39m'\u001b[39m, \u001b[39m'\u001b[39m\u001b[39mMale\u001b[39m\u001b[39m'\u001b[39m]\n\u001b[0;32m      5\u001b[0m })\n\u001b[0;32m      7\u001b[0m df\n",
      "\u001b[1;31mNameError\u001b[0m: name 'pd' is not defined"
     ]
    }
   ],
   "source": [
    "df = pd.DataFrame({\n",
    "    'Age': [46, 37, 44, 42, 42],\n",
    "    'Country': ['Spain', 'Spain', 'Germany', 'Germany', 'France'],\n",
    "    'Gender': ['Female', 'Female', 'Male', 'Male', 'Male']\n",
    "})\n",
    "\n",
    "df"
   ]
  },
  {
   "cell_type": "code",
   "execution_count": null,
   "metadata": {},
   "outputs": [],
   "source": [
    "df['Age']\n",
    "\n",
    "df.Country\n",
    "\n",
    "df[['Country', 'Age']]\n",
    "\n",
    "df.columns\n",
    "\n",
    "df.index"
   ]
  },
  {
   "cell_type": "code",
   "execution_count": null,
   "metadata": {},
   "outputs": [],
   "source": [
    "df = pd.read_csv('./Churn_Modelling.csv')"
   ]
  },
  {
   "cell_type": "code",
   "execution_count": null,
   "metadata": {},
   "outputs": [],
   "source": [
    "sep = #разделитель шапки \",\""
   ]
  },
  {
   "cell_type": "code",
   "execution_count": null,
   "metadata": {},
   "outputs": [],
   "source": [
    "df.head() =#5 элемегнтов сверху\n",
    "df.tail() # 5 строк с конца\n",
    "#можно указывать кличество строк в скобках\n",
    "\n",
    "df.sample() #случайная строка\n",
    "\n",
    "df.sample(frac=1) # перемешивание таблицы\n",
    "df.sample(frac=0.5) #половина таблицы\n",
    "df.shape #кол-во строк и столбиков\n",
    "\n"
   ]
  },
  {
   "cell_type": "markdown",
   "metadata": {},
   "source": [
    "### Первичный анализ данных\n",
    "\n",
    "Типы данных:\n",
    "\n",
    "int: целочисленные значения. Пример: 9, 56, 30\n",
    "\n",
    "float: вещественные значения (с плавающей точкой). Пример: 7.3, 9.0, 45.334\n",
    "\n",
    "\n",
    "object/str: строковые значения. Пример: ‘hello, world’, ‘50 000’"
   ]
  },
  {
   "cell_type": "markdown",
   "metadata": {},
   "source": [
    "##### df.info()\n",
    "\n",
    "Выводятся значения:\n",
    "\n",
    "Count - количество непропущенных объектов (там, где нет nan значений)\n",
    "\n",
    "- mean - арифметическое среднее\n",
    "- std - стандартное отклонение\n",
    "- min - минимальное значение\n",
    "- 25% - квантиль 25 процентов\n",
    "- 50% - квантиль 50 процентов или же медиана\n",
    "-75% - квантиль 75 процентов\n",
    "- max - максимальное значение"
   ]
  },
  {
   "cell_type": "code",
   "execution_count": null,
   "metadata": {},
   "outputs": [],
   "source": [
    "df.describe() #основная сводная статистика"
   ]
  },
  {
   "cell_type": "code",
   "execution_count": null,
   "metadata": {},
   "outputs": [],
   "source": [
    "df.describe(include=['object']) # строковые значения"
   ]
  },
  {
   "cell_type": "markdown",
   "metadata": {},
   "source": [
    "df.dtypes #типы данных"
   ]
  },
  {
   "cell_type": "code",
   "execution_count": null,
   "metadata": {},
   "outputs": [],
   "source": [
    "df.dtype #\n",
    "df['Age'].dtype\n",
    "dtype('int64')\n",
    "df['HasCrCard'].astype('bool')\n",
    "0        True\n",
    "1       False\n",
    "2        True\n",
    "3       False\n",
    "4        True\n",
    "        ...  \n",
    "9995     True\n",
    "9996     True\n",
    "9997    False\n",
    "9998     True\n",
    "9999     True\n",
    "Name: HasCrCard, Length: 10000, dtype: bool\n",
    "df['HasCrCard'].dtype\n",
    "dtype('int64')\n",
    "df['HasCrCard'] = df['HasCrCard'].astype('bool')\n",
    "df['HasCrCard'].dtype\n",
    "dtype('bool')"
   ]
  },
  {
   "cell_type": "code",
   "execution_count": null,
   "metadata": {},
   "outputs": [],
   "source": [
    "df['Geography'].unique()\n",
    "array(['France', 'Spain', 'Germany'], dtype=object)\n",
    "df['Geography'].nunique()\n",
    "3\n",
    "df['Geography'].value_counts()\n",
    "France     5014\n",
    "Germany    2509\n",
    "Spain      2477\n",
    "Name: Geography, dtype: int64\n",
    "df['Geography'].value_counts(normalize=True)\n",
    "France     0.5014\n",
    "Germany    0.2509\n",
    "Spain      0.2477\n",
    "Name: Geography, dtype: float64"
   ]
  },
  {
   "cell_type": "markdown",
   "metadata": {},
   "source": [
    "### Фильтрация\n",
    "\n",
    "Фильтрация в pandas основывается на булевых масках.\n",
    "\n",
    "Булевая маска — бинарные данные, которые используются для выбора определенных объектов из структуры данных."
   ]
  },
  {
   "cell_type": "code",
   "execution_count": null,
   "metadata": {},
   "outputs": [],
   "source": [
    "df['Gender'] == 'Male'\n",
    "0       False\n",
    "1       False\n",
    "2       False\n",
    "3       False\n",
    "4       False\n",
    "        ...  \n",
    "9995     True\n",
    "9996     True\n",
    "9997    False\n",
    "9998     True\n",
    "9999    False\n",
    "Name: Gender, Length: 10000, dtype: bool\n",
    "\n",
    "\n",
    "\n",
    "male = df[df['Gender'] == 'Male']\n",
    "male\n",
    "RowNumber\tCustomerId\tSurname\tCreditScore\tGeography\tGender\tAge\tTenure\tBalance\tNumOfProducts\tHasCrCard\tIsActiveMember\tEstimatedSalary\tExited\n",
    "5\t6\t15574012\tChu\t645\tSpain\tMale\t44\t8\t113755.78\t2\tTrue\t0\t149756.71\t1\n",
    "6\t7\t15592531\tBartlett\t822\tFrance\tMale\t50\t7\t0.00\t2\tTrue\t1\t10062.80\t0\n",
    "8\t9\t15792365\tHe\t501\tFrance\tMale\t44\t4\t142051.07\t2\tFalse\t1\t74940.50\t0\n",
    "9\t10\t15592389\tH?\t684\tFrance\tMale\t27\t2\t134603.88\t1\tTrue\t1\t71725.73\t0\n",
    "10\t11\t15767821\tBearce\t528\tFrance\tMale\t31\t6\t102016.72\t2\tFalse\t0\t80181.12\t0\n",
    "...\t...\t...\t...\t...\t...\t...\t...\t...\t...\t...\t...\t...\t...\t...\n",
    "9992\t9993\t15657105\tChukwualuka\t726\tSpain\tMale\t36\t2\t0.00\t1\tTrue\t0\t195192.40\t0\n",
    "9993\t9994\t15569266\tRahman\t644\tFrance\tMale\t28\t7\t155060.41\t1\tTrue\t0\t29179.52\t0\n",
    "9995\t9996\t15606229\tObijiaku\t771\tFrance\tMale\t39\t5\t0.00\t2\tTrue\t0\t96270.64\t0\n",
    "9996\t9997\t15569892\tJohnstone\t516\tFrance\tMale\t35\t10\t57369.61\t1\tTrue\t1\t101699.77\t0\n",
    "9998\t9999\t15682355\tSabbatini\t772\tGermany\tMale\t42\t3\t75075.31\t2\tTrue\t0\t92888.52\t1\n",
    "5457 rows × 14 columns\n",
    "\n"
   ]
  },
  {
   "cell_type": "markdown",
   "metadata": {},
   "source": [
    "### Логические И\n",
    "\n",
    "При операторе & нужно, чтобы выполнялось два условия одновременно:"
   ]
  },
  {
   "cell_type": "code",
   "execution_count": null,
   "metadata": {},
   "outputs": [],
   "source": [
    "df[(df['Gender'] == 'Female') & (df['NumOfProducts'] >= 3)]\n",
    "RowNumber\tCustomerId\tSurname\tCreditScore\tGeography\tGender\tAge\tTenure\tBalance\tNumOfProducts\tHasCrCard\tIsActiveMember\tEstimatedSalary\tExited\n",
    "2\t3\t15619304\tOnio\t502\tFrance\tFemale\t42\t8\t159660.80\t3\tTrue\t0\t113931.57\t1\n",
    "7\t8\t15656148\tObinna\t376\tGermany\tFemale\t29\t4\t115046.74\t4\tTrue\t0\t119346.88\t1\n",
    "30\t31\t15589475\tAzikiwe\t591\tSpain\tFemale\t39\t3\t0.00\t3\tTrue\t0\t140469.38\t1\n",
    "88\t89\t15622897\tSharpe\t646\tFrance\tFemale\t46\t4\t0.00\t3\tTrue\t0\t93251.42\t1\n",
    "90\t91\t15757535\tHeap\t647\tSpain\tFemale\t44\t5\t0.00\t3\tTrue\t1\t174205.22\t1\n",
    "...\t...\t...\t...\t...\t...\t...\t...\t...\t...\t...\t...\t...\t...\t...\n",
    "9565\t9566\t15752294\tLong\t582\tFrance\tFemale\t38\t9\t135979.01\t4\tTrue\t1\t76582.95\t1\n",
    "9747\t9748\t15775761\tIweobiegbunam\t610\tGermany\tFemale\t69\t5\t86038.21\t3\tFalse\t0\t192743.06\t1\n",
    "9800\t9801\t15640507\tLi\t762\tSpain\tFemale\t35\t3\t119349.69\t3\tTrue\t1\t47114.18\t1\n",
    "9877\t9878\t15572182\tOnwuamaeze\t505\tGermany\tFemale\t33\t3\t106506.77\t3\tTrue\t0\t45445.78\t1\n",
    "9895\t9896\t15796764\tBruno\t684\tGermany\tFemale\t56\t3\t127585.98\t3\tTrue\t1\t80593.49\t1\n",
    "187 rows × 14 columns"
   ]
  },
  {
   "cell_type": "markdown",
   "metadata": {},
   "source": [
    "### Логические ИЛИ\n",
    "При операторе | нужно, чтобы выполнялось хотя бы одно условие:"
   ]
  },
  {
   "cell_type": "code",
   "execution_count": null,
   "metadata": {},
   "outputs": [],
   "source": [
    "df[(df['HasCrCard']) | (df['NumOfProducts'] >= 3)]\n",
    "RowNumber\tCustomerId\tSurname\tCreditScore\tGeography\tGender\tAge\tTenure\tBalance\tNumOfProducts\tHasCrCard\tIsActiveMember\tEstimatedSalary\tExited\n",
    "0\t1\t15634602\tHargrave\t619\tFrance\tFemale\t42\t2\t0.00\t1\tTrue\t1\t101348.88\t1\n",
    "2\t3\t15619304\tOnio\t502\tFrance\tFemale\t42\t8\t159660.80\t3\tTrue\t0\t113931.57\t1\n",
    "4\t5\t15737888\tMitchell\t850\tSpain\tFemale\t43\t2\t125510.82\t1\tTrue\t1\t79084.10\t0\n",
    "5\t6\t15574012\tChu\t645\tSpain\tMale\t44\t8\t113755.78\t2\tTrue\t0\t149756.71\t1\n",
    "6\t7\t15592531\tBartlett\t822\tFrance\tMale\t50\t7\t0.00\t2\tTrue\t1\t10062.80\t0\n",
    "...\t...\t...\t...\t...\t...\t...\t...\t...\t...\t...\t...\t...\t...\t...\n",
    "9993\t9994\t15569266\tRahman\t644\tFrance\tMale\t28\t7\t155060.41\t1\tTrue\t0\t29179.52\t0\n",
    "9995\t9996\t15606229\tObijiaku\t771\tFrance\tMale\t39\t5\t0.00\t2\tTrue\t0\t96270.64\t0\n",
    "9996\t9997\t15569892\tJohnstone\t516\tFrance\tMale\t35\t10\t57369.61\t1\tTrue\t1\t101699.77\t0\n",
    "9998\t9999\t15682355\tSabbatini\t772\tGermany\tMale\t42\t3\t75075.31\t2\tTrue\t0\t92888.52\t1\n",
    "9999\t10000\t15628319\tWalker\t792\tFrance\tFemale\t28\t4\t130142.79\t1\tTrue\t0\t38190.78\t0\n",
    "7150 rows × 14 columns"
   ]
  },
  {
   "cell_type": "markdown",
   "metadata": {},
   "source": [
    "Логические НЕ\n",
    "\n",
    "При операторе ~ булевая маска обращается: True меняется на False и наоборот:\n",
    "\n",
    "df[~(df['Geography'] == 'Spain')]\n",
    "\n",
    "df[df['Geography'].isin(['France', 'Germany'])]"
   ]
  },
  {
   "cell_type": "markdown",
   "metadata": {},
   "source": [
    "### Индексация"
   ]
  },
  {
   "cell_type": "code",
   "execution_count": null,
   "metadata": {},
   "outputs": [],
   "source": [
    "df_small.loc[1]\n",
    "\n",
    "df_small.loc[[1, 4, 5], ['Gender', 'Age']] #строки и возраст\n",
    "\n",
    "df_small.iloc[0, [0, 2]] #по порядку"
   ]
  },
  {
   "cell_type": "markdown",
   "metadata": {},
   "source": [
    "Сортировки"
   ]
  },
  {
   "cell_type": "code",
   "execution_count": null,
   "metadata": {},
   "outputs": [],
   "source": [
    "df.sort_values('Age')\n",
    "\n",
    "df.sort_values('Age', ascending=False)\n",
    "\n",
    "df.sort_values(['Age', 'CreditScore'])"
   ]
  }
 ],
 "metadata": {
  "kernelspec": {
   "display_name": "Python 3",
   "language": "python",
   "name": "python3"
  },
  "language_info": {
   "codemirror_mode": {
    "name": "ipython",
    "version": 3
   },
   "file_extension": ".py",
   "mimetype": "text/x-python",
   "name": "python",
   "nbconvert_exporter": "python",
   "pygments_lexer": "ipython3",
   "version": "3.11.3"
  },
  "orig_nbformat": 4
 },
 "nbformat": 4,
 "nbformat_minor": 2
}
